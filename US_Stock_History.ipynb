{
 "cells": [
  {
   "cell_type": "code",
   "execution_count": 1,
   "metadata": {},
   "outputs": [],
   "source": [
    "from datetime import datetime\n",
    "import time\n",
    "import pandas as pd\n",
    "import numpy as np\n",
    "import pandas_datareader.data as web\n",
    "import math "
   ]
  },
  {
   "cell_type": "markdown",
   "metadata": {},
   "source": [
    "# Test"
   ]
  },
  {
   "cell_type": "code",
   "execution_count": 2,
   "metadata": {},
   "outputs": [],
   "source": [
    "test = web.DataReader('AAPL', \"av-daily-adjusted\", start=datetime(2000, 1, 1),end=datetime(2020, 7, 28),api_key='OBN8PXVTLNCZ2ULQ')"
   ]
  },
  {
   "cell_type": "code",
   "execution_count": 3,
   "metadata": {},
   "outputs": [],
   "source": [
    "test\n",
    "test['LOG_P'] = test[\"close\"].apply(np.log)\n",
    "test['Return'] = test['LOG_P'] - test['LOG_P'].shift(1)"
   ]
  },
  {
   "cell_type": "code",
   "execution_count": 4,
   "metadata": {},
   "outputs": [],
   "source": [
    "test['ticker'] = 'AAPL'"
   ]
  },
  {
   "cell_type": "code",
   "execution_count": 5,
   "metadata": {},
   "outputs": [],
   "source": [
    "test = test.drop(['open','high','low','adjusted close','dividend amount','split coefficient'], axis = 1)"
   ]
  },
  {
   "cell_type": "code",
   "execution_count": 12,
   "metadata": {},
   "outputs": [],
   "source": [
    "test.to_csv(\"Result/AAPL_TEST.csv\",index_label = \"index\")"
   ]
  },
  {
   "cell_type": "code",
   "execution_count": 12,
   "metadata": {},
   "outputs": [
    {
     "data": {
      "text/html": [
       "<div>\n",
       "<style scoped>\n",
       "    .dataframe tbody tr th:only-of-type {\n",
       "        vertical-align: middle;\n",
       "    }\n",
       "\n",
       "    .dataframe tbody tr th {\n",
       "        vertical-align: top;\n",
       "    }\n",
       "\n",
       "    .dataframe thead th {\n",
       "        text-align: right;\n",
       "    }\n",
       "</style>\n",
       "<table border=\"1\" class=\"dataframe\">\n",
       "  <thead>\n",
       "    <tr style=\"text-align: right;\">\n",
       "      <th></th>\n",
       "      <th>index</th>\n",
       "      <th>date</th>\n",
       "      <th>close</th>\n",
       "      <th>volume</th>\n",
       "      <th>ticker</th>\n",
       "      <th>Return</th>\n",
       "    </tr>\n",
       "  </thead>\n",
       "  <tbody>\n",
       "    <tr>\n",
       "      <th>0</th>\n",
       "      <td>0</td>\n",
       "      <td>2000-01-03</td>\n",
       "      <td>116.56</td>\n",
       "      <td>26614200</td>\n",
       "      <td>MSFT</td>\n",
       "      <td>NaN</td>\n",
       "    </tr>\n",
       "    <tr>\n",
       "      <th>1</th>\n",
       "      <td>1</td>\n",
       "      <td>2000-01-04</td>\n",
       "      <td>112.62</td>\n",
       "      <td>27059500</td>\n",
       "      <td>MSFT</td>\n",
       "      <td>-0.034387</td>\n",
       "    </tr>\n",
       "    <tr>\n",
       "      <th>2</th>\n",
       "      <td>2</td>\n",
       "      <td>2000-01-05</td>\n",
       "      <td>113.81</td>\n",
       "      <td>32029800</td>\n",
       "      <td>MSFT</td>\n",
       "      <td>0.010511</td>\n",
       "    </tr>\n",
       "    <tr>\n",
       "      <th>3</th>\n",
       "      <td>3</td>\n",
       "      <td>2000-01-06</td>\n",
       "      <td>110.00</td>\n",
       "      <td>27488300</td>\n",
       "      <td>MSFT</td>\n",
       "      <td>-0.034050</td>\n",
       "    </tr>\n",
       "    <tr>\n",
       "      <th>4</th>\n",
       "      <td>4</td>\n",
       "      <td>2000-01-07</td>\n",
       "      <td>111.44</td>\n",
       "      <td>31006800</td>\n",
       "      <td>MSFT</td>\n",
       "      <td>0.013006</td>\n",
       "    </tr>\n",
       "    <tr>\n",
       "      <th>...</th>\n",
       "      <td>...</td>\n",
       "      <td>...</td>\n",
       "      <td>...</td>\n",
       "      <td>...</td>\n",
       "      <td>...</td>\n",
       "      <td>...</td>\n",
       "    </tr>\n",
       "    <tr>\n",
       "      <th>2313431</th>\n",
       "      <td>2313431</td>\n",
       "      <td>2020-07-22</td>\n",
       "      <td>67.54</td>\n",
       "      <td>481631</td>\n",
       "      <td>BF-B</td>\n",
       "      <td>0.006387</td>\n",
       "    </tr>\n",
       "    <tr>\n",
       "      <th>2313432</th>\n",
       "      <td>2313432</td>\n",
       "      <td>2020-07-23</td>\n",
       "      <td>68.46</td>\n",
       "      <td>706464</td>\n",
       "      <td>BF-B</td>\n",
       "      <td>0.013530</td>\n",
       "    </tr>\n",
       "    <tr>\n",
       "      <th>2313433</th>\n",
       "      <td>2313433</td>\n",
       "      <td>2020-07-24</td>\n",
       "      <td>68.00</td>\n",
       "      <td>521103</td>\n",
       "      <td>BF-B</td>\n",
       "      <td>-0.006742</td>\n",
       "    </tr>\n",
       "    <tr>\n",
       "      <th>2313434</th>\n",
       "      <td>2313434</td>\n",
       "      <td>2020-07-27</td>\n",
       "      <td>68.90</td>\n",
       "      <td>681383</td>\n",
       "      <td>BF-B</td>\n",
       "      <td>0.013148</td>\n",
       "    </tr>\n",
       "    <tr>\n",
       "      <th>2313435</th>\n",
       "      <td>2313435</td>\n",
       "      <td>2020-07-28</td>\n",
       "      <td>68.31</td>\n",
       "      <td>485715</td>\n",
       "      <td>BF-B</td>\n",
       "      <td>-0.008600</td>\n",
       "    </tr>\n",
       "  </tbody>\n",
       "</table>\n",
       "<p>2313436 rows × 6 columns</p>\n",
       "</div>"
      ],
      "text/plain": [
       "           index        date   close    volume ticker    Return\n",
       "0              0  2000-01-03  116.56  26614200   MSFT       NaN\n",
       "1              1  2000-01-04  112.62  27059500   MSFT -0.034387\n",
       "2              2  2000-01-05  113.81  32029800   MSFT  0.010511\n",
       "3              3  2000-01-06  110.00  27488300   MSFT -0.034050\n",
       "4              4  2000-01-07  111.44  31006800   MSFT  0.013006\n",
       "...          ...         ...     ...       ...    ...       ...\n",
       "2313431  2313431  2020-07-22   67.54    481631   BF-B  0.006387\n",
       "2313432  2313432  2020-07-23   68.46    706464   BF-B  0.013530\n",
       "2313433  2313433  2020-07-24   68.00    521103   BF-B -0.006742\n",
       "2313434  2313434  2020-07-27   68.90    681383   BF-B  0.013148\n",
       "2313435  2313435  2020-07-28   68.31    485715   BF-B -0.008600\n",
       "\n",
       "[2313436 rows x 6 columns]"
      ]
     },
     "execution_count": 12,
     "metadata": {},
     "output_type": "execute_result"
    }
   ],
   "source": [
    "pd.read_csv(\"Result/SP_500_history_return.csv\")"
   ]
  },
  {
   "cell_type": "markdown",
   "metadata": {},
   "source": [
    "## Update_by_Day"
   ]
  },
  {
   "cell_type": "code",
   "execution_count": 7,
   "metadata": {},
   "outputs": [
    {
     "name": "stdout",
     "output_type": "stream",
     "text": [
      "The hexadecimal equivalent of hash is : f1e069787ece74531d112559945c6871\n",
      "The hexadecimal equivalent of hash is : f1e069787ece74531d112559945c6871\n"
     ]
    }
   ],
   "source": [
    "import hashlib \n",
    "  \n",
    "# initializing string \n",
    "str2hash = \"GeeksforGeeks\"\n",
    "str2hash2 = \"GeeksforGeeks\"\n",
    "  \n",
    "# encoding GeeksforGeeks using encode() \n",
    "# then sending to md5() \n",
    "result = hashlib.md5(str2hash.encode()) \n",
    "result2 = hashlib.md5(str2hash2.encode()) \n",
    "# printing the equivalent hexadecimal value. \n",
    "print(\"The hexadecimal equivalent of hash is : \", end =\"\") \n",
    "print(result.hexdigest()) \n",
    "print(\"The hexadecimal equivalent of hash is : \", end =\"\") \n",
    "print(result2.hexdigest()) "
   ]
  },
  {
   "cell_type": "code",
   "execution_count": 101,
   "metadata": {},
   "outputs": [],
   "source": [
    "def update_by_day(Tickers,Year,Month,Day):\n",
    "    Date = str(Year)+'_'+str(Month)+\"_\"+str(Day)\n",
    "    Result = pd.DataFrame()\n",
    "    Exception_list=[]\n",
    "    for Ticker in Tickers:\n",
    "        try:\n",
    "            data = web.DataReader(Ticker, \"av-daily-adjusted\", start=datetime(Year, Month, Day),end=datetime(Year, Month, Day),api_key='OBN8PXVTLNCZ2ULQ')\n",
    "            data['Ticker'] = Ticker\n",
    "            Result = Result.append(data)\n",
    "            time.sleep(10)\n",
    "        except:\n",
    "            print(\"An exception occurred: \" + Ticker)\n",
    "            Exception_list.append(Ticker)\n",
    "            time.sleep(60)\n",
    "        print(Ticker)\n",
    "    Result.to_csv('Result/Update/SP_500_'+ Date+'.csv',index=False,mode='a',header=False)\n",
    "    pd.DataFrame(Exception_list).to_csv('Result/Update/SP_500_' + Date + '_' + 'except_list.csv',index=False)"
   ]
  },
  {
   "cell_type": "code",
   "execution_count": 3,
   "metadata": {},
   "outputs": [
    {
     "ename": "NameError",
     "evalue": "name 'update_by_day' is not defined",
     "output_type": "error",
     "traceback": [
      "\u001b[0;31m---------------------------------------------------------------------------\u001b[0m",
      "\u001b[0;31mNameError\u001b[0m                                 Traceback (most recent call last)",
      "\u001b[0;32m<ipython-input-3-4427a2a5743b>\u001b[0m in \u001b[0;36m<module>\u001b[0;34m\u001b[0m\n\u001b[1;32m     12\u001b[0m \u001b[0mMonth\u001b[0m \u001b[0;34m=\u001b[0m \u001b[0;36m9\u001b[0m\u001b[0;34m\u001b[0m\u001b[0m\n\u001b[1;32m     13\u001b[0m \u001b[0mDay\u001b[0m \u001b[0;34m=\u001b[0m \u001b[0;36m14\u001b[0m\u001b[0;34m\u001b[0m\u001b[0m\n\u001b[0;32m---> 14\u001b[0;31m \u001b[0mupdate_by_day\u001b[0m\u001b[0;34m(\u001b[0m\u001b[0mTickers\u001b[0m\u001b[0;34m,\u001b[0m\u001b[0mYear\u001b[0m\u001b[0;34m,\u001b[0m\u001b[0mMonth\u001b[0m\u001b[0;34m,\u001b[0m\u001b[0mDay\u001b[0m\u001b[0;34m)\u001b[0m\u001b[0;34m\u001b[0m\u001b[0m\n\u001b[0m",
      "\u001b[0;31mNameError\u001b[0m: name 'update_by_day' is not defined"
     ]
    }
   ],
   "source": [
    "'''First time we should run all the tickers in the Excel file.'''\n",
    "# df = pd.read_excel('./Data/US_SP_500.xlsx',skiprows=[0],)\n",
    "# Tickers = df[\"Symbol\"].tolist()\n",
    "\n",
    "'''After run the above two line codes , run the tickers in the except_list.csv several times \n",
    "until none tickers. If it doesn't work after a few tries, it's because of the resources.\n",
    "'''\n",
    "# df1 = pd.read_csv('Result/Update/SP_500_2020_9_14_except_list.csv')\n",
    "# Tickers = df1[\"0\"].tolist()\n",
    "\n",
    "Year = 2020\n",
    "Month = 9\n",
    "Day = 14\n",
    "update_by_day(Tickers,Year,Month,Day)"
   ]
  },
  {
   "cell_type": "code",
   "execution_count": 6,
   "metadata": {},
   "outputs": [
    {
     "data": {
      "text/html": [
       "<div>\n",
       "<style scoped>\n",
       "    .dataframe tbody tr th:only-of-type {\n",
       "        vertical-align: middle;\n",
       "    }\n",
       "\n",
       "    .dataframe tbody tr th {\n",
       "        vertical-align: top;\n",
       "    }\n",
       "\n",
       "    .dataframe thead th {\n",
       "        text-align: right;\n",
       "    }\n",
       "</style>\n",
       "<table border=\"1\" class=\"dataframe\">\n",
       "  <thead>\n",
       "    <tr style=\"text-align: right;\">\n",
       "      <th></th>\n",
       "      <th>open</th>\n",
       "      <th>high</th>\n",
       "      <th>low</th>\n",
       "      <th>close</th>\n",
       "      <th>adjusted close</th>\n",
       "      <th>volume</th>\n",
       "      <th>dividend amount</th>\n",
       "      <th>split coefficient</th>\n",
       "    </tr>\n",
       "  </thead>\n",
       "  <tbody>\n",
       "    <tr>\n",
       "      <th>2020-09-14</th>\n",
       "      <td>29.37</td>\n",
       "      <td>30.04</td>\n",
       "      <td>29.2</td>\n",
       "      <td>29.73</td>\n",
       "      <td>29.73</td>\n",
       "      <td>10249993</td>\n",
       "      <td>0.24</td>\n",
       "      <td>1.0</td>\n",
       "    </tr>\n",
       "  </tbody>\n",
       "</table>\n",
       "</div>"
      ],
      "text/plain": [
       "             open   high   low  close  adjusted close    volume  \\\n",
       "2020-09-14  29.37  30.04  29.2  29.73           29.73  10249993   \n",
       "\n",
       "            dividend amount  split coefficient  \n",
       "2020-09-14             0.24                1.0  "
      ]
     },
     "execution_count": 6,
     "metadata": {},
     "output_type": "execute_result"
    }
   ],
   "source": [
    "'''Test'''\n",
    "web.DataReader(\"VIAC\", \"av-daily-adjusted\", start=datetime(Year, Month, Day),end=datetime(Year, Month, Day),api_key='OBN8PXVTLNCZ2ULQ')         "
   ]
  },
  {
   "cell_type": "markdown",
   "metadata": {},
   "source": [
    "## Cal Return"
   ]
  },
  {
   "cell_type": "code",
   "execution_count": null,
   "metadata": {},
   "outputs": [],
   "source": [
    "drop_data = pd.read_csv(\"Result/SP_500_history.csv\").drop(['open','high','low','adjusted close','dividend amount','split coefficient'], axis = 1)\n",
    "drop_data['LOG_P'] = drop_data[\"close\"].apply(np.log)\n",
    "drop_data['Return'] = drop_data['LOG_P'] - drop_data['LOG_P'].shift(1)\n",
    "drop_data = drop_data.drop(['LOG_P'],axis = 1)\n",
    "drop_data.to_csv(\"Result/SP_500_history_return.csv\",index_label = \"index\")"
   ]
  }
 ],
 "metadata": {
  "kernelspec": {
   "display_name": "US_stack",
   "language": "python",
   "name": "us_stack"
  },
  "language_info": {
   "codemirror_mode": {
    "name": "ipython",
    "version": 3
   },
   "file_extension": ".py",
   "mimetype": "text/x-python",
   "name": "python",
   "nbconvert_exporter": "python",
   "pygments_lexer": "ipython3",
   "version": "3.6.5"
  },
  "toc": {
   "base_numbering": 1,
   "nav_menu": {},
   "number_sections": true,
   "sideBar": true,
   "skip_h1_title": false,
   "title_cell": "Table of Contents",
   "title_sidebar": "Contents",
   "toc_cell": false,
   "toc_position": {
    "height": "calc(100% - 180px)",
    "left": "10px",
    "top": "150px",
    "width": "261.818px"
   },
   "toc_section_display": true,
   "toc_window_display": true
  },
  "varInspector": {
   "cols": {
    "lenName": 16,
    "lenType": 16,
    "lenVar": 40
   },
   "kernels_config": {
    "python": {
     "delete_cmd_postfix": "",
     "delete_cmd_prefix": "del ",
     "library": "var_list.py",
     "varRefreshCmd": "print(var_dic_list())"
    },
    "r": {
     "delete_cmd_postfix": ") ",
     "delete_cmd_prefix": "rm(",
     "library": "var_list.r",
     "varRefreshCmd": "cat(var_dic_list()) "
    }
   },
   "types_to_exclude": [
    "module",
    "function",
    "builtin_function_or_method",
    "instance",
    "_Feature"
   ],
   "window_display": false
  }
 },
 "nbformat": 4,
 "nbformat_minor": 2
}
