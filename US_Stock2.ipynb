{
 "metadata": {
  "language_info": {
   "codemirror_mode": {
    "name": "ipython",
    "version": 3
   },
   "file_extension": ".py",
   "mimetype": "text/x-python",
   "name": "python",
   "nbconvert_exporter": "python",
   "pygments_lexer": "ipython3",
   "version": "3.6.5-final"
  },
  "orig_nbformat": 2,
  "kernelspec": {
   "name": "python36564bitvenvvirtualenve3386de874424bc5b9ed7a5b8f5c8f83",
   "display_name": "Python 3.6.5 64-bit ('venv': virtualenv)"
  }
 },
 "nbformat": 4,
 "nbformat_minor": 2,
 "cells": [
  {
   "cell_type": "code",
   "execution_count": 1,
   "metadata": {},
   "outputs": [],
   "source": [
    "from datetime import datetime\n",
    "import time\n",
    "import pandas as pd\n",
    "import numpy as np\n",
    "import pandas_datareader.data as web\n"
   ]
  },
  {
   "cell_type": "code",
   "execution_count": 7,
   "metadata": {},
   "outputs": [],
   "source": [
    "df = pd.read_excel('./Data/Yahoo_Ticker_Symbols_September_2017.xlsx',sheet_name='Stock',usecols=[0,1,2,3,4],skiprows=[0,1,2])"
   ]
  },
  {
   "cell_type": "code",
   "execution_count": 8,
   "metadata": {},
   "outputs": [
    {
     "output_type": "execute_result",
     "data": {
      "text/plain": "       Ticker                         Name Exchange  \\\n0        AAPL                   Apple Inc.      NMS   \n1         BAC  Bank of America Corporation      NYQ   \n2        AMZN             Amazon.com, Inc.      NMS   \n3           T                    AT&T Inc.      NYQ   \n4        GOOG                Alphabet Inc.      NMS   \n...       ...                          ...      ...   \n106249   USWL       US-Worldlink.Com, Inc.      PNK   \n106277   GROG             GroGenesis, Inc.      PNK   \n106283   INCT                InCapta, Inc.      PNK   \n106290  INDVF       IndigoVision Group plc      PNK   \n106306  INTQF                InternetQ PLC      PNK   \n\n                         Category Name Country  \n0                 Electronic Equipment     USA  \n1                   Money Center Banks     USA  \n2          Catalog & Mail Order Houses     USA  \n3          Telecom Services - Domestic     USA  \n4       Internet Information Providers     USA  \n...                                ...     ...  \n106249                             NaN     USA  \n106277          Agricultural Chemicals     USA  \n106283                             NaN     USA  \n106290                             NaN     USA  \n106306                             NaN     USA  \n\n[22168 rows x 5 columns]",
      "text/html": "<div>\n<style scoped>\n    .dataframe tbody tr th:only-of-type {\n        vertical-align: middle;\n    }\n\n    .dataframe tbody tr th {\n        vertical-align: top;\n    }\n\n    .dataframe thead th {\n        text-align: right;\n    }\n</style>\n<table border=\"1\" class=\"dataframe\">\n  <thead>\n    <tr style=\"text-align: right;\">\n      <th></th>\n      <th>Ticker</th>\n      <th>Name</th>\n      <th>Exchange</th>\n      <th>Category Name</th>\n      <th>Country</th>\n    </tr>\n  </thead>\n  <tbody>\n    <tr>\n      <th>0</th>\n      <td>AAPL</td>\n      <td>Apple Inc.</td>\n      <td>NMS</td>\n      <td>Electronic Equipment</td>\n      <td>USA</td>\n    </tr>\n    <tr>\n      <th>1</th>\n      <td>BAC</td>\n      <td>Bank of America Corporation</td>\n      <td>NYQ</td>\n      <td>Money Center Banks</td>\n      <td>USA</td>\n    </tr>\n    <tr>\n      <th>2</th>\n      <td>AMZN</td>\n      <td>Amazon.com, Inc.</td>\n      <td>NMS</td>\n      <td>Catalog &amp; Mail Order Houses</td>\n      <td>USA</td>\n    </tr>\n    <tr>\n      <th>3</th>\n      <td>T</td>\n      <td>AT&amp;T Inc.</td>\n      <td>NYQ</td>\n      <td>Telecom Services - Domestic</td>\n      <td>USA</td>\n    </tr>\n    <tr>\n      <th>4</th>\n      <td>GOOG</td>\n      <td>Alphabet Inc.</td>\n      <td>NMS</td>\n      <td>Internet Information Providers</td>\n      <td>USA</td>\n    </tr>\n    <tr>\n      <th>...</th>\n      <td>...</td>\n      <td>...</td>\n      <td>...</td>\n      <td>...</td>\n      <td>...</td>\n    </tr>\n    <tr>\n      <th>106249</th>\n      <td>USWL</td>\n      <td>US-Worldlink.Com, Inc.</td>\n      <td>PNK</td>\n      <td>NaN</td>\n      <td>USA</td>\n    </tr>\n    <tr>\n      <th>106277</th>\n      <td>GROG</td>\n      <td>GroGenesis, Inc.</td>\n      <td>PNK</td>\n      <td>Agricultural Chemicals</td>\n      <td>USA</td>\n    </tr>\n    <tr>\n      <th>106283</th>\n      <td>INCT</td>\n      <td>InCapta, Inc.</td>\n      <td>PNK</td>\n      <td>NaN</td>\n      <td>USA</td>\n    </tr>\n    <tr>\n      <th>106290</th>\n      <td>INDVF</td>\n      <td>IndigoVision Group plc</td>\n      <td>PNK</td>\n      <td>NaN</td>\n      <td>USA</td>\n    </tr>\n    <tr>\n      <th>106306</th>\n      <td>INTQF</td>\n      <td>InternetQ PLC</td>\n      <td>PNK</td>\n      <td>NaN</td>\n      <td>USA</td>\n    </tr>\n  </tbody>\n</table>\n<p>22168 rows × 5 columns</p>\n</div>"
     },
     "metadata": {},
     "execution_count": 8
    }
   ],
   "source": [
    "Stock = df[df['Country']=='USA']"
   ]
  },
  {
   "cell_type": "code",
   "execution_count": 32,
   "metadata": {},
   "outputs": [
    {
     "output_type": "execute_result",
     "data": {
      "text/plain": "             open     high     low  close   volume\n2020-07-21  15.59  16.5800  15.590  16.31  2314910\n2020-07-22  16.16  16.5950  15.970  16.38  2982235\n2020-07-23  16.36  16.8759  15.570  15.69  9988918\n2020-07-24  15.65  15.8000  15.050  15.20  5296138\n2020-07-27  15.25  15.2900  14.385  14.72  6692335",
      "text/html": "<div>\n<style scoped>\n    .dataframe tbody tr th:only-of-type {\n        vertical-align: middle;\n    }\n\n    .dataframe tbody tr th {\n        vertical-align: top;\n    }\n\n    .dataframe thead th {\n        text-align: right;\n    }\n</style>\n<table border=\"1\" class=\"dataframe\">\n  <thead>\n    <tr style=\"text-align: right;\">\n      <th></th>\n      <th>open</th>\n      <th>high</th>\n      <th>low</th>\n      <th>close</th>\n      <th>volume</th>\n    </tr>\n  </thead>\n  <tbody>\n    <tr>\n      <th>2020-07-21</th>\n      <td>15.59</td>\n      <td>16.5800</td>\n      <td>15.590</td>\n      <td>16.31</td>\n      <td>2314910</td>\n    </tr>\n    <tr>\n      <th>2020-07-22</th>\n      <td>16.16</td>\n      <td>16.5950</td>\n      <td>15.970</td>\n      <td>16.38</td>\n      <td>2982235</td>\n    </tr>\n    <tr>\n      <th>2020-07-23</th>\n      <td>16.36</td>\n      <td>16.8759</td>\n      <td>15.570</td>\n      <td>15.69</td>\n      <td>9988918</td>\n    </tr>\n    <tr>\n      <th>2020-07-24</th>\n      <td>15.65</td>\n      <td>15.8000</td>\n      <td>15.050</td>\n      <td>15.20</td>\n      <td>5296138</td>\n    </tr>\n    <tr>\n      <th>2020-07-27</th>\n      <td>15.25</td>\n      <td>15.2900</td>\n      <td>14.385</td>\n      <td>14.72</td>\n      <td>6692335</td>\n    </tr>\n  </tbody>\n</table>\n</div>"
     },
     "metadata": {},
     "execution_count": 32
    }
   ],
   "source": [
    "web.DataReader('KORS', \"av-daily\", start=datetime(2020, 7, 21),api_key='OBN8PXVTLNCZ2ULQ')"
   ]
  },
  {
   "cell_type": "code",
   "execution_count": 29,
   "metadata": {},
   "outputs": [
    {
     "output_type": "execute_result",
     "data": {
      "text/plain": "['1', '2']"
     },
     "metadata": {},
     "execution_count": 29
    }
   ],
   "source": [
    "r = []\n",
    "r.append('1')\n",
    "r.append('2')\n",
    "','.join(r).split(',')"
   ]
  },
  {
   "cell_type": "code",
   "execution_count": 6,
   "metadata": {},
   "outputs": [
    {
     "output_type": "execute_result",
     "data": {
      "text/plain": "0"
     },
     "metadata": {},
     "execution_count": 6
    }
   ],
   "source": []
  },
  {
   "cell_type": "code",
   "execution_count": null,
   "metadata": {},
   "outputs": [],
   "source": []
  }
 ]
}